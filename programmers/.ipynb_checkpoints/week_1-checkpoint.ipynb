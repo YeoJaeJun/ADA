{
 "cells": [
  {
   "cell_type": "markdown",
   "id": "b2a66769-692c-414a-88ce-81fb905bbc4d",
   "metadata": {
    "jp-MarkdownHeadingCollapsed": true
   },
   "source": [
    "# WEEK 1\n",
    "2024.02.26. MON"
   ]
  },
  {
   "cell_type": "markdown",
   "id": "d02467b8-b01f-4a2f-9c54-b9fdcfe62330",
   "metadata": {
    "jp-MarkdownHeadingCollapsed": true
   },
   "source": [
    "### Q1. 길이에 따른 연산"
   ]
  },
  {
   "cell_type": "markdown",
   "id": "a5175fbb-2536-4d5e-8ec4-df6b8d5ece23",
   "metadata": {
    "jp-MarkdownHeadingCollapsed": true
   },
   "source": [
    "#### 문제 설명\n",
    "- 정수가 담긴 리스트 num_list가 주어질 때, 리스트의 길이가 11 이상이면 리스트에 있는 모든 원소의 합을 10 이하이면 모든 원소의 곱을 return하도록 solution 함수를 완성해주세요.\n",
    "\n",
    "#### 제한 사항\n",
    "- 2 ≤ num_list의 길이 ≤ 20\r",
    "- 1 ≤ num_list의 원소 ≤ 9\n",
    "- \n",
    "num_list의 원소를 모두 곱했을 때 2,147,483,647를넘는 입력은 주어지지 않습니다..\n",
    "\n",
    "#### 입출력 예\n",
    "- num_list\n",
    "    - [3, 4, 5, 2, 5, 4, 6, 7, 3, 7, 2, 2, 1]\n",
    "    - [2, 3, 4, 5]\n",
    "- result\r",
    "    - 51\n",
    "    - 120."
   ]
  },
  {
   "cell_type": "markdown",
   "id": "b3482fed-c20b-479e-930e-a65aa6c9ed85",
   "metadata": {
    "jp-MarkdownHeadingCollapsed": true
   },
   "source": [
    "### A1. 길이에 따른 연산"
   ]
  },
  {
   "cell_type": "code",
   "execution_count": 1,
   "id": "8906978d-4d3f-4298-99b3-25ad1a095545",
   "metadata": {},
   "outputs": [],
   "source": [
    "def solution(num_list):\n",
    "    answer = 0\n",
    "    \n",
    "    if len(num_list) >= 11:\n",
    "        answer = sum(num_list)\n",
    "    else:\n",
    "        answer = 1\n",
    "        for i in range(len(num_list)):\n",
    "            answer *= num_list[i]\n",
    "\n",
    "    return answer"
   ]
  },
  {
   "cell_type": "code",
   "execution_count": 2,
   "id": "60d25bc4-b52b-4b99-9f97-4344f5bbfd45",
   "metadata": {},
   "outputs": [
    {
     "data": {
      "text/plain": [
       "51"
      ]
     },
     "execution_count": 2,
     "metadata": {},
     "output_type": "execute_result"
    }
   ],
   "source": [
    "solution([3, 4, 5, 2, 5, 4, 6, 7, 3, 7, 2, 2, 1])"
   ]
  },
  {
   "cell_type": "code",
   "execution_count": 3,
   "id": "159e87cd-f566-41b9-8eb8-e979b74e6e2e",
   "metadata": {},
   "outputs": [
    {
     "data": {
      "text/plain": [
       "120"
      ]
     },
     "execution_count": 3,
     "metadata": {},
     "output_type": "execute_result"
    }
   ],
   "source": [
    "solution([2, 3, 4, 5])"
   ]
  },
  {
   "cell_type": "markdown",
   "id": "fe375570-1d62-41ee-af48-380536f2e28b",
   "metadata": {
    "jp-MarkdownHeadingCollapsed": true
   },
   "source": [
    "### A2. 길이에 따른 연산 - eval 사용"
   ]
  },
  {
   "cell_type": "code",
   "execution_count": 12,
   "id": "960a5415-31ac-45e5-9fef-2cc3ba182334",
   "metadata": {},
   "outputs": [],
   "source": [
    "def solution(num_list):\n",
    "    if len(num_list) >= 11:\n",
    "        return eval('+'.join(list(map(str, num_list))))\n",
    "    else:\n",
    "        return eval('*'.join(list(map(str, num_list))))"
   ]
  },
  {
   "cell_type": "code",
   "execution_count": 13,
   "id": "be433af3-26b8-4291-83a0-14a0b159a15b",
   "metadata": {},
   "outputs": [
    {
     "data": {
      "text/plain": [
       "51"
      ]
     },
     "execution_count": 13,
     "metadata": {},
     "output_type": "execute_result"
    }
   ],
   "source": [
    "solution([3, 4, 5, 2, 5, 4, 6, 7, 3, 7, 2, 2, 1])"
   ]
  },
  {
   "cell_type": "code",
   "execution_count": 14,
   "id": "3dc6611d-0cf0-4927-8bcc-d794cdebf46d",
   "metadata": {},
   "outputs": [
    {
     "data": {
      "text/plain": [
       "120"
      ]
     },
     "execution_count": 14,
     "metadata": {},
     "output_type": "execute_result"
    }
   ],
   "source": [
    "solution([2, 3, 4, 5])"
   ]
  },
  {
   "cell_type": "markdown",
   "id": "31b4ede2-6ecc-4eba-b6fe-88dfe3ede373",
   "metadata": {
    "jp-MarkdownHeadingCollapsed": true
   },
   "source": [
    "### Q2. 조건에 맞게 수열 변환하기 1"
   ]
  },
  {
   "cell_type": "markdown",
   "id": "53be0847-f20f-461b-b7f9-edcc9d69b2c8",
   "metadata": {},
   "source": [
    "#### 문제 설명\n",
    "- 정수 배열 arr가 주어집니다. arr의 각 원소에 대해 값이 50보다 크거나 같은 짝수라면 2로 나누고, 50보다 작은 홀수라면 2를 곱합니다. 그 결과인 정수 배열을 return 하는 solution 함수를 완성해 주세요.\n",
    "\n",
    "#### 제한 사항\n",
    "- 1 ≤ arr의 길이 ≤ 1,000,000\r",
    "- \n",
    "1 ≤ arr의 원소의 값 ≤ 100\n",
    "\n",
    "#### 입출력 \n",
    "- arr\n",
    "    - \\[1, 2, 3, 100, 99, 98\\]\n",
    "- result\n",
    "    - \\[2, 2, 6, 50, 99, 49\\]"
   ]
  },
  {
   "cell_type": "markdown",
   "id": "531cf6da-7c6d-4049-915f-fc5e4d435921",
   "metadata": {
    "jp-MarkdownHeadingCollapsed": true
   },
   "source": [
    "### A2. 조건에 맞게 수열 변환하기 1"
   ]
  },
  {
   "cell_type": "code",
   "execution_count": 20,
   "id": "4d93603d-db4d-4703-b480-7fd07544f411",
   "metadata": {},
   "outputs": [],
   "source": [
    "def solution(arr):\n",
    "    answer = []\n",
    "\n",
    "    for i in range(len(arr)):\n",
    "        if arr[i] >= 50 and arr[i] % 2 == 0:\n",
    "            answer.append(arr[i] // 2)\n",
    "        elif arr[i] < 50 and arr[i] % 2 != 0:\n",
    "            answer.append(arr[i] * 2)\n",
    "        else:\n",
    "            answer.append(arr[i])\n",
    "\n",
    "    return answer"
   ]
  },
  {
   "cell_type": "code",
   "execution_count": 21,
   "id": "00ea0a67-c884-4603-87b9-deeaad2f9c7a",
   "metadata": {},
   "outputs": [
    {
     "data": {
      "text/plain": [
       "[2, 2, 6, 50, 99, 49]"
      ]
     },
     "execution_count": 21,
     "metadata": {},
     "output_type": "execute_result"
    }
   ],
   "source": [
    "solution([1, 2, 3, 100, 99, 98])"
   ]
  },
  {
   "cell_type": "markdown",
   "id": "5ccec7fa-8d2c-47ff-b74a-d19dddc03860",
   "metadata": {
    "jp-MarkdownHeadingCollapsed": true
   },
   "source": [
    "### Q3. falg에 따라 다른 값 반환하기"
   ]
  },
  {
   "cell_type": "markdown",
   "id": "b4e6732f-8579-45e1-be73-084943d68792",
   "metadata": {},
   "source": [
    "#### 문제 설명\n",
    "- 두 정수 a, b와 boolean 변수 flag가 매개변수로 주어질 때, flag가 true면 a + b를 false면 a - b를 return 하는 solution 함수를 작성해 주세요.\n",
    "\n",
    "#### 제한 사항\n",
    "- -1,000 ≤ a, b ≤ 1,000\n",
    "\n",
    "#### 입출력 \n",
    "| a | b | flag | result |\n",
    "| - | - | - | - |\n",
    "| -4 | 7 | true | 3|\n",
    "| -4 | 7 | false | -11|"
   ]
  },
  {
   "cell_type": "markdown",
   "id": "87c6fa64-c76e-4193-a041-0a062ca827ea",
   "metadata": {
    "jp-MarkdownHeadingCollapsed": true
   },
   "source": [
    "### A3. flag에 따라 다른 값 반환하기"
   ]
  },
  {
   "cell_type": "code",
   "execution_count": 22,
   "id": "adc167bd-4d34-44c2-adfa-7de2d44a121e",
   "metadata": {},
   "outputs": [],
   "source": [
    "def solution(a, b, flag):\n",
    "    if flag:\n",
    "        answer = a + b\n",
    "    else:\n",
    "        answer = a - b\n",
    "\n",
    "    return answer"
   ]
  },
  {
   "cell_type": "code",
   "execution_count": 26,
   "id": "2154dc48-d43e-475a-b9d9-38435da937e1",
   "metadata": {},
   "outputs": [
    {
     "data": {
      "text/plain": [
       "3"
      ]
     },
     "execution_count": 26,
     "metadata": {},
     "output_type": "execute_result"
    }
   ],
   "source": [
    "solution(-4, 7, True)"
   ]
  },
  {
   "cell_type": "code",
   "execution_count": 27,
   "id": "4c0552b2-fa49-4499-8551-560ffa88d0e0",
   "metadata": {},
   "outputs": [
    {
     "data": {
      "text/plain": [
       "-11"
      ]
     },
     "execution_count": 27,
     "metadata": {},
     "output_type": "execute_result"
    }
   ],
   "source": [
    "solution(-4, 7, False)"
   ]
  },
  {
   "cell_type": "markdown",
   "id": "fd38fd4a-320a-428d-9832-4f0ef3bcc505",
   "metadata": {
    "jp-MarkdownHeadingCollapsed": true
   },
   "source": [
    "### Q4. 공배수"
   ]
  },
  {
   "cell_type": "markdown",
   "id": "ad6fceb7-45d7-48f8-a763-15c020104a36",
   "metadata": {},
   "source": [
    "#### 문제 설명\n",
    "- 정수 number와 n, m이 주어집니다. number가 n의 배수이면서 m의 배수이면 1을 아니라면 0을 return하도록 solution 함수를 완성해주세요.\n",
    "\n",
    "#### 제한 사항\n",
    "- 10 ≤ number ≤ 100\r",
    "- 2 ≤ n, m < 10\n",
    "\n",
    "#### 입출력 \n",
    "| number | n | m | result |\n",
    "| - | - | - | - |\n",
    "| 60 | 2 | 3 | 1 |\n",
    "| 55 | 10 | 5 | 0 |"
   ]
  },
  {
   "cell_type": "markdown",
   "id": "a461ef61-aa8c-4e20-b56c-5d2f9418d13d",
   "metadata": {
    "jp-MarkdownHeadingCollapsed": true
   },
   "source": [
    "### A4. 공배수"
   ]
  },
  {
   "cell_type": "code",
   "execution_count": 28,
   "id": "3302953f-5f6f-43bf-8795-be45fe016d5c",
   "metadata": {},
   "outputs": [],
   "source": [
    "def solution(number, n, m):\n",
    "    if number % n == 0 and number % m == 0:\n",
    "        return 1\n",
    "    else:\n",
    "        return 0"
   ]
  },
  {
   "cell_type": "code",
   "execution_count": 29,
   "id": "c90ae0e2-9803-47d0-b16f-498e3e0d711d",
   "metadata": {},
   "outputs": [
    {
     "data": {
      "text/plain": [
       "1"
      ]
     },
     "execution_count": 29,
     "metadata": {},
     "output_type": "execute_result"
    }
   ],
   "source": [
    "solution(60, 2, 3)"
   ]
  },
  {
   "cell_type": "code",
   "execution_count": 30,
   "id": "f26fe27e-8e6b-4b27-a999-19182990caf8",
   "metadata": {},
   "outputs": [
    {
     "data": {
      "text/plain": [
       "0"
      ]
     },
     "execution_count": 30,
     "metadata": {},
     "output_type": "execute_result"
    }
   ],
   "source": [
    "solution(55, 10, 5)"
   ]
  },
  {
   "cell_type": "markdown",
   "id": "288bc59b-b366-4f4f-80c4-35dfcbd067e2",
   "metadata": {
    "jp-MarkdownHeadingCollapsed": true
   },
   "source": [
    "### Q5. 문자열 뒤의 n글자"
   ]
  },
  {
   "attachments": {
    "0a71483e-ce44-4c63-a039-a8eb950c3477.png": {
     "image/png": "[encoded data removed]"
    }
   },
   "cell_type": "markdown",
   "id": "2d575910-b0b8-4d00-b902-1408b364b24a",
   "metadata": {},
   "source": [
    "#### 문제 설명\n",
    "- 문자열 my_string과 정수 n이 매개변수로 주어질 때, my_string의 뒤의 n글자로 이루어진 문자열을 return 하는 solution 함수를 작성해 주세요.\n",
    "\n",
    "#### 제한 사항\n",
    "- my_string은 숫자와 알파벳으로 이루어져 있습니다.\r",
    "- 1 ≤ my_string의 길이 ≤ 1,000\n",
    "- 1 ≤ n ≤ my_string의 길이\n",
    "\n",
    "#### 입출력 예\n",
    "![image.png](attachment:0a71483e-ce44-4c63-a039-a8eb950c3477.png)|"
   ]
  },
  {
   "cell_type": "markdown",
   "id": "fa2de1e6-ad20-49fa-ba43-ca71db274724",
   "metadata": {
    "jp-MarkdownHeadingCollapsed": true
   },
   "source": [
    "### A5. 문자열 뒤의 n글자"
   ]
  },
  {
   "cell_type": "code",
   "execution_count": 39,
   "id": "22a03cc0-338f-4a67-856d-8c1a21435f92",
   "metadata": {},
   "outputs": [],
   "source": [
    "def solution(my_string, n):\n",
    "    return my_string[-n:]"
   ]
  },
  {
   "cell_type": "code",
   "execution_count": 40,
   "id": "c99ab678-89fb-41d7-816d-9fb225bb0630",
   "metadata": {},
   "outputs": [
    {
     "data": {
      "text/plain": [
       "'grammerS123'"
      ]
     },
     "execution_count": 40,
     "metadata": {},
     "output_type": "execute_result"
    }
   ],
   "source": [
    "solution(\"ProgrammerS123\", 11)"
   ]
  },
  {
   "cell_type": "code",
   "execution_count": 41,
   "id": "246ef26f-4b7b-4bde-956e-99d32deaaafa",
   "metadata": {},
   "outputs": [
    {
     "data": {
      "text/plain": [
       "'W0r1d'"
      ]
     },
     "execution_count": 41,
     "metadata": {},
     "output_type": "execute_result"
    }
   ],
   "source": [
    "solution(\"He110W0r1d\", 5)"
   ]
  },
  {
   "cell_type": "markdown",
   "id": "f4f254d0-231d-42a6-aa4c-bcbafc616f1e",
   "metadata": {
    "jp-MarkdownHeadingCollapsed": true
   },
   "source": [
    "### Q6. n 번째 원소까지"
   ]
  },
  {
   "cell_type": "markdown",
   "id": "c3aa9236-9bf7-49a0-90d0-899f4c8d711d",
   "metadata": {},
   "source": [
    "#### 문제 설명\n",
    "- 정수 리스트 num_list와 정수 n이 주어질 때, num_list의 첫 번째 원소부터 n 번째 원소까지의 모든 원소를 담은 리스트를 return하도록 solution 함수를 완성해주세요.\n",
    "\n",
    "#### 제한 사항\n",
    "- 2 ≤ num_list의 길이 ≤ 30\r",
    "- \n",
    "1 ≤ num_list의 원소 ≤ 9- \r\n",
    "1 ≤ n ≤ num_list의 \n",
    "\n",
    "#### 입출력 예\n",
    "| num_list | n | result |\n",
    "| - | - | - |\n",
    "| \\[2, 1, 6 \\] | 1 | \\[2\\] |\n",
    "| \\[5, 2, 1, 7, 5\\] | 3 | \\[5, 2, 1\\] |__"
   ]
  },
  {
   "cell_type": "markdown",
   "id": "0de23511-fdc2-42fa-acf1-64e4e3b506a1",
   "metadata": {},
   "source": [
    "### A6. n 번째 원소까지"
   ]
  },
  {
   "cell_type": "code",
   "execution_count": 42,
   "id": "2a6accd0-6345-4dcc-b49a-cb3c26173738",
   "metadata": {},
   "outputs": [],
   "source": [
    "def solution(num_list, n):\n",
    "    return num_list[:n]"
   ]
  },
  {
   "cell_type": "code",
   "execution_count": 43,
   "id": "cb369d02-a326-4e7a-abcc-469f97a1027f",
   "metadata": {},
   "outputs": [
    {
     "data": {
      "text/plain": [
       "[2]"
      ]
     },
     "execution_count": 43,
     "metadata": {},
     "output_type": "execute_result"
    }
   ],
   "source": [
    "solution([2, 1, 6], 1)"
   ]
  },
  {
   "cell_type": "code",
   "execution_count": 44,
   "id": "5e5aa261-3f7c-4bca-902d-b7fbe9b24e78",
   "metadata": {},
   "outputs": [
    {
     "data": {
      "text/plain": [
       "[5, 2, 1]"
      ]
     },
     "execution_count": 44,
     "metadata": {},
     "output_type": "execute_result"
    }
   ],
   "source": [
    "solution([5, 2, 1, 7, 5], 3)"
   ]
  },
  {
   "cell_type": "markdown",
   "id": "f125a383-69df-4ddf-a327-11cb90dba35c",
   "metadata": {
    "jp-MarkdownHeadingCollapsed": true
   },
   "source": [
    "### Q7. 뒤에서 5등까지"
   ]
  },
  {
   "cell_type": "markdown",
   "id": "814d2c27-c0ba-483d-ac8c-2acccf4a65d9",
   "metadata": {},
   "source": [
    "#### 문제 설명\n",
    "- 정수로 이루어진 리스트 num_list가 주어집니다. num_list에서 가장 작은 5개의 수를 오름차순으로 담은 리스트를 return하도록 solution 함수를 완성해주세요.\n",
    "\n",
    "#### 제한 사항\n",
    "- 6 ≤ num_list의 길이 ≤ 30\r",
    "- \n",
    "1 ≤ num_list의 원소 ≤ 10\n",
    "\n",
    "#### 입출력 예\n",
    "- num_list\n",
    "    - \\[12, 4, 15, 46, 38, 1, 14\\]\n",
    "- result\n",
    "    - \\[1, 4, 12, 14, 15\\]0"
   ]
  },
  {
   "cell_type": "markdown",
   "id": "96c48c6b-1b55-470a-9d01-b828695df16a",
   "metadata": {
    "jp-MarkdownHeadingCollapsed": true
   },
   "source": [
    "### A7. 뒤에서 5등까지"
   ]
  },
  {
   "cell_type": "code",
   "execution_count": 35,
   "id": "f5cec087-fa0d-4837-902e-fa0b47cce825",
   "metadata": {},
   "outputs": [],
   "source": [
    "def solution(num_list):\n",
    "    num_list.sort()\n",
    "    return num_list[:5]"
   ]
  },
  {
   "cell_type": "code",
   "execution_count": 36,
   "id": "71fc7c2e-a809-47aa-9269-a86b81be60fe",
   "metadata": {},
   "outputs": [
    {
     "data": {
      "text/plain": [
       "[1, 4, 12, 14, 15]"
      ]
     },
     "execution_count": 36,
     "metadata": {},
     "output_type": "execute_result"
    }
   ],
   "source": [
    "solution([12, 4, 15, 46, 38, 1, 14])"
   ]
  },
  {
   "cell_type": "markdown",
   "id": "b12eff83-db29-495b-8f8d-ef15e0af8aa9",
   "metadata": {
    "jp-MarkdownHeadingCollapsed": true
   },
   "source": [
    "### A7. 뒤에서 5등까지 - sorted() 사용"
   ]
  },
  {
   "cell_type": "code",
   "execution_count": 37,
   "id": "167dd3bf-1d44-4c75-ba62-57f6a2e03d33",
   "metadata": {},
   "outputs": [],
   "source": [
    "def solution(num_list):\n",
    "    return sorted(num_list)[:5]"
   ]
  },
  {
   "cell_type": "code",
   "execution_count": 38,
   "id": "e9312fd5-09a6-4844-a781-7779f61cf150",
   "metadata": {},
   "outputs": [
    {
     "data": {
      "text/plain": [
       "[1, 4, 12, 14, 15]"
      ]
     },
     "execution_count": 38,
     "metadata": {},
     "output_type": "execute_result"
    }
   ],
   "source": [
    "solution([12, 4, 15, 46, 38, 1, 14])"
   ]
  },
  {
   "cell_type": "markdown",
   "id": "3bd06177-adc5-4572-b053-a93f8a33dd33",
   "metadata": {
    "jp-MarkdownHeadingCollapsed": true
   },
   "source": [
    "### Q8. n번째 원소부터"
   ]
  },
  {
   "attachments": {
    "57706a37-e147-4512-a9f0-bfc1127dbf34.png": {
     "image/png": "[encoded data removed]"
    }
   },
   "cell_type": "markdown",
   "id": "7ab55c49-136f-460a-beb3-abb805159f5a",
   "metadata": {},
   "source": [
    "#### 문제 설명\n",
    "- 정수 리스트 num_list와 정수 n이 주어질 때, n 번째 원소부터 마지막 원소까지의 모든 원소를 담은 리스트를 return하도록 solution 함수를 완성해주세요.\n",
    "\n",
    "#### 제한 사항\n",
    "- 2 ≤ num_list의 길이 ≤ 30\r",
    "- \n",
    "1 ≤ num_list의 원소 ≤ 9- \r\n",
    "1 ≤ n ≤ num_list의 \n",
    "\n",
    "#### 입출력 예\n",
    "![image.png](attachment:57706a37-e147-4512-a9f0-bfc1127dbf34.png)길이"
   ]
  },
  {
   "cell_type": "markdown",
   "id": "9c60a871-c49a-4620-a035-110020460a53",
   "metadata": {
    "jp-MarkdownHeadingCollapsed": true
   },
   "source": [
    "### A8. n번째 원소부터"
   ]
  },
  {
   "cell_type": "code",
   "execution_count": 39,
   "id": "00124bc0-51f4-467e-8079-3791c9a584e8",
   "metadata": {},
   "outputs": [],
   "source": [
    "def solution(num_list, n):\n",
    "    return num_list[n-1:]"
   ]
  },
  {
   "cell_type": "code",
   "execution_count": 41,
   "id": "31d6b413-d66f-4507-afd4-cc215b6ccdc2",
   "metadata": {},
   "outputs": [
    {
     "data": {
      "text/plain": [
       "[6]"
      ]
     },
     "execution_count": 41,
     "metadata": {},
     "output_type": "execute_result"
    }
   ],
   "source": [
    "solution([2, 1, 6], 3)"
   ]
  },
  {
   "cell_type": "code",
   "execution_count": 42,
   "id": "b090f07d-52c7-45cf-bad8-8fc48b7328f5",
   "metadata": {},
   "outputs": [
    {
     "data": {
      "text/plain": [
       "[2, 1, 7, 5]"
      ]
     },
     "execution_count": 42,
     "metadata": {},
     "output_type": "execute_result"
    }
   ],
   "source": [
    "solution([5, 2, 1, 7, 5], 2)"
   ]
  },
  {
   "cell_type": "markdown",
   "id": "e3efc46b-673a-48db-a47d-7640521a73d5",
   "metadata": {
    "jp-MarkdownHeadingCollapsed": true
   },
   "source": [
    "### Q9. 소문자로 바꾸기"
   ]
  },
  {
   "attachments": {
    "2c93dac4-1364-4573-a878-1c32e008fb68.png": {
     "image/png": "[encoded data removed]"
    }
   },
   "cell_type": "markdown",
   "id": "a1fb162d-755a-4e04-b1c2-de8580d52104",
   "metadata": {},
   "source": [
    "![image.png](attachment:2c93dac4-1364-4573-a878-1c32e008fb68.png)"
   ]
  },
  {
   "cell_type": "markdown",
   "id": "5b53b602-a8f8-46a2-9d51-7a0edd3c2c06",
   "metadata": {
    "jp-MarkdownHeadingCollapsed": true
   },
   "source": [
    "### A9. 소문자로 바꾸기"
   ]
  },
  {
   "cell_type": "code",
   "execution_count": 45,
   "id": "4e1b8714-3aa4-41e8-8a47-cb8e3c4a6522",
   "metadata": {},
   "outputs": [],
   "source": [
    "def solution(myString):\n",
    "    return myString.lower()"
   ]
  },
  {
   "cell_type": "code",
   "execution_count": 46,
   "id": "585a3ff9-312b-422b-8848-698dc713515a",
   "metadata": {},
   "outputs": [
    {
     "data": {
      "text/plain": [
       "'abcdefg'"
      ]
     },
     "execution_count": 46,
     "metadata": {},
     "output_type": "execute_result"
    }
   ],
   "source": [
    "solution('aBcDeFg')"
   ]
  },
  {
   "cell_type": "markdown",
   "id": "2392edd7-9842-408f-98dc-595865b74fdc",
   "metadata": {
    "jp-MarkdownHeadingCollapsed": true
   },
   "source": [
    "### Q10. n의 배수"
   ]
  },
  {
   "attachments": {
    "483fabbf-01c4-43bb-a665-6b60577e8b93.png": {
     "image/png": "[encoded data removed]"
    }
   },
   "cell_type": "markdown",
   "id": "7b844e80-5220-428b-8d29-c5cb58c40f01",
   "metadata": {},
   "source": [
    "![image.png](attachment:483fabbf-01c4-43bb-a665-6b60577e8b93.png)"
   ]
  },
  {
   "cell_type": "markdown",
   "id": "39d58d86-d2c1-4537-9d76-94195ec16255",
   "metadata": {
    "jp-MarkdownHeadingCollapsed": true
   },
   "source": [
    "### A10. n의 배수"
   ]
  },
  {
   "cell_type": "code",
   "execution_count": 48,
   "id": "a1053d23-5a38-4430-b59c-664be7d9e944",
   "metadata": {},
   "outputs": [],
   "source": [
    "def solution(num, n):\n",
    "    return 1 if num % n == 0 else 0"
   ]
  },
  {
   "cell_type": "code",
   "execution_count": 49,
   "id": "45eb7865-9d41-4cb6-922c-8abc91aeaad8",
   "metadata": {},
   "outputs": [
    {
     "data": {
      "text/plain": [
       "1"
      ]
     },
     "execution_count": 49,
     "metadata": {},
     "output_type": "execute_result"
    }
   ],
   "source": [
    "solution(98, 2)"
   ]
  }
 ],
 "metadata": {
  "kernelspec": {
   "display_name": "Python 3 (ipykernel)",
   "language": "python",
   "name": "python3"
  },
  "language_info": {
   "codemirror_mode": {
    "name": "ipython",
    "version": 3
   },
   "file_extension": ".py",
   "mimetype": "text/x-python",
   "name": "python",
   "nbconvert_exporter": "python",
   "pygments_lexer": "ipython3",
   "version": "3.11.8"
  }
 },
 "nbformat": 4,
 "nbformat_minor": 5
}
