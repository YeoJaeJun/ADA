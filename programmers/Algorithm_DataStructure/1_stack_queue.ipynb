{
 "cells": [
  {
   "cell_type": "markdown",
   "id": "b68712f2-f954-438e-a209-aa68c8f90ae9",
   "metadata": {},
   "source": [
    "# 1. Stack / Queue"
   ]
  },
  {
   "cell_type": "code",
   "execution_count": null,
   "id": "c711be09-9417-43a8-a6f5-f2f1e9842b83",
   "metadata": {},
   "outputs": [],
   "source": []
  },
  {
   "cell_type": "code",
   "execution_count": null,
   "id": "db1cc79b-4351-4dc1-b7b0-bae35f766dc8",
   "metadata": {},
   "outputs": [],
   "source": []
  },
  {
   "cell_type": "code",
   "execution_count": null,
   "id": "74335b6d-baec-4e60-be8c-ae2baec548d6",
   "metadata": {},
   "outputs": [],
   "source": []
  }
 ],
 "metadata": {
  "kernelspec": {
   "display_name": "Python 3 (ipykernel)",
   "language": "python",
   "name": "python3"
  },
  "language_info": {
   "codemirror_mode": {
    "name": "ipython",
    "version": 3
   },
   "file_extension": ".py",
   "mimetype": "text/x-python",
   "name": "python",
   "nbconvert_exporter": "python",
   "pygments_lexer": "ipython3",
   "version": "3.11.8"
  }
 },
 "nbformat": 4,
 "nbformat_minor": 5
}
