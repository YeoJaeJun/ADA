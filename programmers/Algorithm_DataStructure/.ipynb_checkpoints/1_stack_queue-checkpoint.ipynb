{
 "cells": [
  {
   "cell_type": "markdown",
   "id": "b68712f2-f954-438e-a209-aa68c8f90ae9",
   "metadata": {},
   "source": [
    "# 1. Stack / Queue"
   ]
  },
  {
   "cell_type": "markdown",
   "id": "1945e88d-ee92-4b3d-906f-4bdcd47bb2ff",
   "metadata": {},
   "source": [
    "https://www.notion.so/8reakdiamond/01-Stack-Queue-fcdc72ec24d14fa6984b3a73057a2636?pvs=4"
   ]
  },
  {
   "cell_type": "markdown",
   "id": "a16feb5f-1f30-414b-acdd-2fcfd560efc6",
   "metadata": {},
   "source": [
    "## Q1. 같은 숫자는 싫어"
   ]
  },
  {
   "cell_type": "markdown",
   "id": "3db46352-bc04-4625-bced-6546924cb28f",
   "metadata": {},
   "source": [
    "https://school.programmers.co.kr/learn/courses/30/lessons/12906"
   ]
  },
  {
   "cell_type": "markdown",
   "id": "6a43a288-313f-4561-adc5-7b4797903387",
   "metadata": {},
   "source": [
    "### A1. 같은 숫자는 싫어"
   ]
  },
  {
   "cell_type": "code",
   "execution_count": null,
   "id": "ba6bfe1c-15e2-44a4-8582-883dc1b1f6e7",
   "metadata": {},
   "outputs": [],
   "source": []
  },
  {
   "cell_type": "code",
   "execution_count": null,
   "id": "66b65a4a-0a69-454d-a231-612482453f84",
   "metadata": {},
   "outputs": [],
   "source": []
  },
  {
   "cell_type": "code",
   "execution_count": null,
   "id": "3227bedc-803b-4620-841e-38e45c60d2c1",
   "metadata": {},
   "outputs": [],
   "source": []
  },
  {
   "cell_type": "markdown",
   "id": "8b00dc3b-76e0-4d67-880c-8ab6fb814797",
   "metadata": {},
   "source": [
    "## Q2. 기능 개발"
   ]
  },
  {
   "cell_type": "markdown",
   "id": "1fdc598f-4767-4157-b9ed-8f9cefb0a0ab",
   "metadata": {},
   "source": [
    "https://school.programmers.co.kr/learn/courses/30/lessons/42586"
   ]
  },
  {
   "cell_type": "markdown",
   "id": "1379c03c-1086-4632-be90-b2aedd0eaff2",
   "metadata": {},
   "source": [
    "### A2. 기능 개발"
   ]
  },
  {
   "cell_type": "code",
   "execution_count": null,
   "id": "baf5b1a5-d84b-4390-9a2e-005d2e1e9fe0",
   "metadata": {},
   "outputs": [],
   "source": []
  },
  {
   "cell_type": "code",
   "execution_count": null,
   "id": "7a822727-6324-415a-8184-5fa3e9fcaefd",
   "metadata": {},
   "outputs": [],
   "source": []
  },
  {
   "cell_type": "code",
   "execution_count": null,
   "id": "218dbd7c-8698-4f82-b3c2-e293cc535a42",
   "metadata": {},
   "outputs": [],
   "source": []
  },
  {
   "cell_type": "markdown",
   "id": "80ccc597-2748-4852-ad4e-d972b04494b6",
   "metadata": {},
   "source": [
    "## Q3. 올바른 괄호"
   ]
  },
  {
   "cell_type": "markdown",
   "id": "b5e7acfb-4b66-49c5-a957-efcd96b0cc94",
   "metadata": {},
   "source": [
    "https://school.programmers.co.kr/learn/courses/30/lessons/12909"
   ]
  },
  {
   "cell_type": "markdown",
   "id": "e9d78da5-8c44-4c54-bbfa-e03abca05bb0",
   "metadata": {},
   "source": [
    "### A3. 올바른 괄호"
   ]
  },
  {
   "cell_type": "code",
   "execution_count": null,
   "id": "1eea439e-f284-4ab6-9384-cb45cbcb3d2b",
   "metadata": {},
   "outputs": [],
   "source": []
  },
  {
   "cell_type": "code",
   "execution_count": null,
   "id": "f7065c54-8ca9-4a7d-9b9e-ceafea9b4954",
   "metadata": {},
   "outputs": [],
   "source": []
  },
  {
   "cell_type": "code",
   "execution_count": null,
   "id": "c10896d7-2c36-4cef-b5d4-9ee4e809ff23",
   "metadata": {},
   "outputs": [],
   "source": []
  },
  {
   "cell_type": "markdown",
   "id": "b1c12c59-2ddd-49fe-acf9-bd2c8a42e603",
   "metadata": {},
   "source": [
    "## Q4. 프로세스"
   ]
  },
  {
   "cell_type": "markdown",
   "id": "36484e3d-f28b-4081-9346-020073c594ea",
   "metadata": {},
   "source": [
    "https://school.programmers.co.kr/learn/courses/30/lessons/42587"
   ]
  },
  {
   "cell_type": "markdown",
   "id": "5881677e-9137-476d-842c-23812fcaa678",
   "metadata": {},
   "source": [
    "### A4. 프로세스"
   ]
  },
  {
   "cell_type": "code",
   "execution_count": null,
   "id": "4d617b9c-40eb-4aff-9016-6c4ca281fd4b",
   "metadata": {},
   "outputs": [],
   "source": []
  },
  {
   "cell_type": "code",
   "execution_count": null,
   "id": "15d10ba3-1797-4fa5-a385-d826d5af2c24",
   "metadata": {},
   "outputs": [],
   "source": []
  },
  {
   "cell_type": "code",
   "execution_count": null,
   "id": "e77b8759-6ce3-41b4-9613-6d8b170af506",
   "metadata": {},
   "outputs": [],
   "source": []
  },
  {
   "cell_type": "markdown",
   "id": "27d4084e-e621-4e28-a12b-7ba5f7aa98f8",
   "metadata": {},
   "source": [
    "## Q5. 다리를 지나는 트럭"
   ]
  },
  {
   "cell_type": "markdown",
   "id": "8fe20380-759c-48ac-9673-9d5e423c6d1c",
   "metadata": {},
   "source": [
    "https://school.programmers.co.kr/learn/courses/30/lessons/42583"
   ]
  },
  {
   "cell_type": "markdown",
   "id": "e28f020e-b974-4908-b139-22e305127e44",
   "metadata": {},
   "source": [
    "### A5. 다리를 지나는 트럭"
   ]
  },
  {
   "cell_type": "code",
   "execution_count": null,
   "id": "ede069b6-d5c6-4b39-9591-7afc82bb1088",
   "metadata": {},
   "outputs": [],
   "source": []
  },
  {
   "cell_type": "code",
   "execution_count": null,
   "id": "453077a4-749e-4253-a95c-447172d658da",
   "metadata": {},
   "outputs": [],
   "source": []
  },
  {
   "cell_type": "code",
   "execution_count": null,
   "id": "e0e2192f-a0b0-4a34-bc19-01598ecbc9b1",
   "metadata": {},
   "outputs": [],
   "source": []
  },
  {
   "cell_type": "markdown",
   "id": "d125567f-f798-43f2-9633-15d9bc4ff567",
   "metadata": {},
   "source": [
    "## Q6. 주식 가격"
   ]
  },
  {
   "cell_type": "markdown",
   "id": "fd20c3c8-9009-42ae-87b7-0ea48ea541e9",
   "metadata": {},
   "source": [
    "https://school.programmers.co.kr/learn/courses/30/lessons/42584"
   ]
  },
  {
   "cell_type": "markdown",
   "id": "4cb59ca5-7ad1-4008-9dbe-3c9c3cbcb36a",
   "metadata": {},
   "source": [
    "### A6. 주식 가격"
   ]
  },
  {
   "cell_type": "code",
   "execution_count": null,
   "id": "9bd3927b-4576-48e8-bb73-796222d385a9",
   "metadata": {},
   "outputs": [],
   "source": []
  },
  {
   "cell_type": "code",
   "execution_count": null,
   "id": "90bf3b32-bd07-48b6-a0db-6be1f1d102e8",
   "metadata": {},
   "outputs": [],
   "source": []
  },
  {
   "cell_type": "code",
   "execution_count": null,
   "id": "db1cc79b-4351-4dc1-b7b0-bae35f766dc8",
   "metadata": {},
   "outputs": [],
   "source": []
  }
 ],
 "metadata": {
  "kernelspec": {
   "display_name": "Python 3 (ipykernel)",
   "language": "python",
   "name": "python3"
  },
  "language_info": {
   "codemirror_mode": {
    "name": "ipython",
    "version": 3
   },
   "file_extension": ".py",
   "mimetype": "text/x-python",
   "name": "python",
   "nbconvert_exporter": "python",
   "pygments_lexer": "ipython3",
   "version": "3.11.8"
  }
 },
 "nbformat": 4,
 "nbformat_minor": 5
}
