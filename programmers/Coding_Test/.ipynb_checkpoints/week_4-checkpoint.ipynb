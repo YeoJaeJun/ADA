{
 "cells": [
  {
   "cell_type": "markdown",
   "id": "4719ef46-d0b6-4bf3-b428-2b5aec2f434d",
   "metadata": {},
   "source": [
    "# WEEK 4\n",
    "### 프로그래머스 Lv.2\n",
    "##### 2024.03.18. MON"
   ]
  },
  {
   "cell_type": "markdown",
   "id": "f40a3975-8b2d-4a95-b995-6d378d30146c",
   "metadata": {},
   "source": [
    "## Q1. 도넛과 막대 그래프\n",
    "##### 2024 KAKAO WINTER INTERNSHIP"
   ]
  },
  {
   "cell_type": "markdown",
   "id": "932c86c9-cadd-4677-b4e0-58e4bc9f98d4",
   "metadata": {},
   "source": [
    "https://school.programmers.co.kr/learn/courses/30/lessons/258711"
   ]
  },
  {
   "cell_type": "markdown",
   "id": "68799abf-16e5-40ea-8073-2727751fbcc1",
   "metadata": {},
   "source": [
    "### A1. 도넛과 막대 그래프"
   ]
  },
  {
   "cell_type": "code",
   "execution_count": null,
   "id": "bb8780b1-851a-425a-a621-e9b892f16df6",
   "metadata": {},
   "outputs": [],
   "source": [
    "def solution(edges):\n",
    "    result, donut, bar, eight = [], [], [], []\n",
    "    start, end = [edge[0] for edge in edges], [edge[1] for edge in edges]\n",
    "\n",
    "    # 정점의 총 개수를 구한다. 가장 큰 정점의 번호를 구한다.\n",
    "    vertex_cnt = max(max(start), max(end))\n",
    "    \n",
    "    # 생성한 정점을 찾는다. 생성한 정점으로는 간선이 오지 않음을 이용한다.\n",
    "    vertex = list( set(list(range(1, vertex_cnt+1))) - set(end) )[0]\n",
    "    \n",
    "    # 생성한 정점에서 출발하는 간선을 없앤다.\n",
    "    # edges = [edge for edge in edges if edge[0] != vertex]\n",
    "\n",
    "    # 간선의 수를 구한다.\n",
    "    line_cnt = len(edges)\n",
    "\n",
    "    for edge in edges:\n",
    "        "
   ]
  },
  {
   "cell_type": "code",
   "execution_count": 7,
   "id": "44e63b9f-719d-4f0a-9e7a-0969d0b64d80",
   "metadata": {},
   "outputs": [],
   "source": [
    "edges = [[4, 11], [1, 12], [8, 3], [12, 7], [4, 2], [7, 11], [4, 8], [9, 6], [10, 11], [6, 10], [3, 5], [11, 1], [5, 3], [11, 9], [3, 8]]"
   ]
  },
  {
   "cell_type": "code",
   "execution_count": 8,
   "id": "7e47d046-c4bf-4e12-976f-8f8e0207b9a2",
   "metadata": {},
   "outputs": [],
   "source": [
    "result, donut, bar, eight = [], [], [], []\n",
    "start, end = [edge[0] for edge in edges], [edge[1] for edge in edges]\n",
    "\n",
    "# 정점의 총 개수를 구한다. 가장 큰 정점의 번호를 구한다.\n",
    "vertex_cnt = max(max(start), max(end))\n",
    "\n",
    "# 생성한 정점을 찾는다. 생성한 정점으로는 간선이 오지 않음을 이용한다.\n",
    "vertex = list( set(list(range(1, vertex_cnt+1))) - set(end) )[0]\n",
    "\n",
    "# 생성한 정점에서 출발하는 간선을 없앤다.\n",
    "# edges = [edge for edge in edges if edge[0] != vertex]\n",
    "\n",
    "# 간선의 수를 구한다.\n",
    "line_cnt = len(edges)"
   ]
  },
  {
   "cell_type": "code",
   "execution_count": 9,
   "id": "6ae2661b-17f2-45e4-9dc1-1cb649d9c13a",
   "metadata": {},
   "outputs": [
    {
     "data": {
      "text/plain": [
       "12"
      ]
     },
     "execution_count": 9,
     "metadata": {},
     "output_type": "execute_result"
    }
   ],
   "source": [
    "vertex_cnt"
   ]
  },
  {
   "cell_type": "code",
   "execution_count": 10,
   "id": "ea7439f8-110f-4c2b-bec0-7496f2c5016c",
   "metadata": {},
   "outputs": [
    {
     "data": {
      "text/plain": [
       "4"
      ]
     },
     "execution_count": 10,
     "metadata": {},
     "output_type": "execute_result"
    }
   ],
   "source": [
    "vertex"
   ]
  },
  {
   "cell_type": "code",
   "execution_count": 11,
   "id": "8f93d103-d884-4c59-b597-883895610915",
   "metadata": {},
   "outputs": [
    {
     "data": {
      "text/plain": [
       "[[4, 11],\n",
       " [1, 12],\n",
       " [8, 3],\n",
       " [12, 7],\n",
       " [4, 2],\n",
       " [7, 11],\n",
       " [4, 8],\n",
       " [9, 6],\n",
       " [10, 11],\n",
       " [6, 10],\n",
       " [3, 5],\n",
       " [11, 1],\n",
       " [5, 3],\n",
       " [11, 9],\n",
       " [3, 8]]"
      ]
     },
     "execution_count": 11,
     "metadata": {},
     "output_type": "execute_result"
    }
   ],
   "source": [
    "edges"
   ]
  },
  {
   "cell_type": "code",
   "execution_count": 12,
   "id": "d868b8ea-329b-424f-9985-95a21e90350e",
   "metadata": {},
   "outputs": [
    {
     "data": {
      "text/plain": [
       "15"
      ]
     },
     "execution_count": 12,
     "metadata": {},
     "output_type": "execute_result"
    }
   ],
   "source": [
    "line_cnt"
   ]
  },
  {
   "cell_type": "code",
   "execution_count": 13,
   "id": "2c7dd5a9-5745-498f-a16f-33bea5788fe0",
   "metadata": {},
   "outputs": [],
   "source": [
    "edges = [edge for edge in edges if edge[0] != vertex]\n",
    "start, end = [edge[0] for edge in edges], [edge[1] for edge in edges]"
   ]
  },
  {
   "cell_type": "code",
   "execution_count": 14,
   "id": "6bdd9021-ac3d-4a56-8e69-1b3a09e41e1d",
   "metadata": {},
   "outputs": [
    {
     "data": {
      "text/plain": [
       "[1, 8, 12, 7, 9, 10, 6, 3, 11, 5, 11, 3]"
      ]
     },
     "execution_count": 14,
     "metadata": {},
     "output_type": "execute_result"
    }
   ],
   "source": [
    "start"
   ]
  },
  {
   "cell_type": "code",
   "execution_count": 15,
   "id": "c01f7398-4c2d-4f36-b5ae-d6bd26758ad6",
   "metadata": {},
   "outputs": [
    {
     "data": {
      "text/plain": [
       "[12, 3, 7, 11, 6, 11, 10, 5, 1, 3, 9, 8]"
      ]
     },
     "execution_count": 15,
     "metadata": {},
     "output_type": "execute_result"
    }
   ],
   "source": [
    "end"
   ]
  },
  {
   "cell_type": "code",
   "execution_count": 16,
   "id": "87e2996f-9de5-4412-b29a-333f1d7322b6",
   "metadata": {},
   "outputs": [],
   "source": [
    "l = len(start)"
   ]
  },
  {
   "cell_type": "code",
   "execution_count": null,
   "id": "6ce2095d-9756-4269-8ec9-e1c9570f51a0",
   "metadata": {},
   "outputs": [],
   "source": [
    "for i in range(l):\n",
    "    "
   ]
  },
  {
   "cell_type": "code",
   "execution_count": null,
   "id": "74d538d5-313e-47fb-a7ce-060b1a89c572",
   "metadata": {},
   "outputs": [],
   "source": []
  },
  {
   "cell_type": "code",
   "execution_count": null,
   "id": "26af9261-6d1c-43b3-86dd-3f6f0dc06a33",
   "metadata": {},
   "outputs": [],
   "source": []
  },
  {
   "cell_type": "code",
   "execution_count": null,
   "id": "558b1c71-6db9-4e40-a3e8-2e6c62776c86",
   "metadata": {},
   "outputs": [],
   "source": []
  },
  {
   "cell_type": "code",
   "execution_count": null,
   "id": "2804ba29-a303-4dbc-a4fa-5cca54e437e6",
   "metadata": {},
   "outputs": [],
   "source": []
  },
  {
   "cell_type": "code",
   "execution_count": null,
   "id": "df0e459d-03b6-4862-90b7-436c482eaafe",
   "metadata": {},
   "outputs": [],
   "source": []
  },
  {
   "cell_type": "code",
   "execution_count": null,
   "id": "e72b0e4d-4f55-4780-afdb-23744893db14",
   "metadata": {},
   "outputs": [],
   "source": []
  },
  {
   "cell_type": "code",
   "execution_count": null,
   "id": "ab74cb1f-940f-4ee8-9a04-782aaaab050f",
   "metadata": {},
   "outputs": [],
   "source": []
  },
  {
   "cell_type": "markdown",
   "id": "5cde34c8-7f5e-4b06-9d29-53dd4b2ac095",
   "metadata": {},
   "source": [
    "## Q2. 석유 시추\n",
    "##### PCCP 기출 문제"
   ]
  },
  {
   "cell_type": "markdown",
   "id": "0a887322-f91d-44cb-be33-7ba2a495f037",
   "metadata": {},
   "source": [
    "https://school.programmers.co.kr/learn/courses/30/lessons/250136"
   ]
  },
  {
   "cell_type": "markdown",
   "id": "c4c64544-9e56-45c5-b847-d43f154507d4",
   "metadata": {},
   "source": [
    "### A2. 석유 시추"
   ]
  },
  {
   "cell_type": "code",
   "execution_count": null,
   "id": "e9e53418-e10f-4f0f-ac07-1d9521415218",
   "metadata": {},
   "outputs": [],
   "source": [
    "def solution(land):\n",
    "    "
   ]
  },
  {
   "cell_type": "code",
   "execution_count": null,
   "id": "289bdcc5-d219-4e81-ba08-54ad0498aca4",
   "metadata": {},
   "outputs": [],
   "source": []
  },
  {
   "cell_type": "markdown",
   "id": "fc29ef02-14b4-4a65-b7ab-06199315f09a",
   "metadata": {},
   "source": [
    "## Q3. 아날로그 시계\n",
    "##### PCCP 기출 문제"
   ]
  },
  {
   "cell_type": "markdown",
   "id": "f9a17431-4710-4d1f-85ca-32dd103a7474",
   "metadata": {},
   "source": [
    "https://school.programmers.co.kr/learn/courses/30/lessons/250135"
   ]
  },
  {
   "cell_type": "markdown",
   "id": "aa3aed47-3e3c-4967-a49c-0c87a05364f4",
   "metadata": {},
   "source": [
    "### A3. 아날로그 시계"
   ]
  },
  {
   "cell_type": "code",
   "execution_count": null,
   "id": "120ed5c2-6ba7-4cda-be92-19732e2a0bfc",
   "metadata": {},
   "outputs": [],
   "source": []
  },
  {
   "cell_type": "code",
   "execution_count": null,
   "id": "b2937b51-bf06-4da2-ab58-fa7630241a43",
   "metadata": {},
   "outputs": [],
   "source": []
  },
  {
   "cell_type": "markdown",
   "id": "6e01befb-de52-43a0-9919-97d7462d8517",
   "metadata": {},
   "source": [
    "## Q4. 빛의 경로 사이클"
   ]
  },
  {
   "cell_type": "markdown",
   "id": "da0f4640-86b0-4fa0-acb0-cadf3bf16309",
   "metadata": {},
   "source": [
    "https://school.programmers.co.kr/learn/courses/30/lessons/86052"
   ]
  },
  {
   "cell_type": "markdown",
   "id": "ad09ec82-1464-4f36-bd1d-4ff582b28cb0",
   "metadata": {},
   "source": [
    "### A4. 빛의 경로 사이클"
   ]
  },
  {
   "cell_type": "code",
   "execution_count": null,
   "id": "82bf72b1-efff-49ca-9734-4adf4e05a803",
   "metadata": {},
   "outputs": [],
   "source": []
  },
  {
   "cell_type": "code",
   "execution_count": null,
   "id": "0590fafc-f7a1-4eb9-b56c-f6c625885310",
   "metadata": {},
   "outputs": [],
   "source": []
  },
  {
   "cell_type": "markdown",
   "id": "e856c782-58b6-4471-b7f3-d904091b9922",
   "metadata": {},
   "source": [
    "## Q5. 당구 연습"
   ]
  },
  {
   "cell_type": "markdown",
   "id": "168c91f4-3e2f-4a05-ab97-ab2666280f56",
   "metadata": {},
   "source": [
    "https://school.programmers.co.kr/learn/courses/30/lessons/169198"
   ]
  },
  {
   "cell_type": "markdown",
   "id": "20e49c70-5f6c-47a8-8ed8-c3587d561952",
   "metadata": {},
   "source": [
    "### A5. 당구 연습"
   ]
  },
  {
   "cell_type": "code",
   "execution_count": null,
   "id": "3d173c53-360a-4e82-b38b-eb091b63c03c",
   "metadata": {},
   "outputs": [],
   "source": []
  },
  {
   "cell_type": "code",
   "execution_count": null,
   "id": "92bb7c5e-b292-4889-9cbf-7f24c0d76709",
   "metadata": {},
   "outputs": [],
   "source": []
  }
 ],
 "metadata": {
  "kernelspec": {
   "display_name": "Python 3 (ipykernel)",
   "language": "python",
   "name": "python3"
  },
  "language_info": {
   "codemirror_mode": {
    "name": "ipython",
    "version": 3
   },
   "file_extension": ".py",
   "mimetype": "text/x-python",
   "name": "python",
   "nbconvert_exporter": "python",
   "pygments_lexer": "ipython3",
   "version": "3.11.8"
  }
 },
 "nbformat": 4,
 "nbformat_minor": 5
}
