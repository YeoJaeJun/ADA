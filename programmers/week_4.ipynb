{
 "cells": [
  {
   "cell_type": "markdown",
   "id": "4719ef46-d0b6-4bf3-b428-2b5aec2f434d",
   "metadata": {},
   "source": [
    "# WEEK 4\n",
    "### 프로그래머스 Lv.2\n",
    "##### 2024.03.18. MON"
   ]
  },
  {
   "cell_type": "markdown",
   "id": "f40a3975-8b2d-4a95-b995-6d378d30146c",
   "metadata": {},
   "source": [
    "## Q1. 도넛과 막대 그래프\n",
    "##### 2024 KAKAO WINTER INTERNSHIP"
   ]
  },
  {
   "cell_type": "markdown",
   "id": "932c86c9-cadd-4677-b4e0-58e4bc9f98d4",
   "metadata": {},
   "source": [
    "https://school.programmers.co.kr/learn/courses/30/lessons/258711"
   ]
  },
  {
   "cell_type": "markdown",
   "id": "68799abf-16e5-40ea-8073-2727751fbcc1",
   "metadata": {},
   "source": [
    "### A1. 도넛과 막대 그래프"
   ]
  },
  {
   "cell_type": "code",
   "execution_count": null,
   "id": "7c5ee31e-b993-4cee-92ee-ed19c34eb78d",
   "metadata": {},
   "outputs": [],
   "source": []
  },
  {
   "cell_type": "code",
   "execution_count": null,
   "id": "ab74cb1f-940f-4ee8-9a04-782aaaab050f",
   "metadata": {},
   "outputs": [],
   "source": []
  },
  {
   "cell_type": "markdown",
   "id": "5cde34c8-7f5e-4b06-9d29-53dd4b2ac095",
   "metadata": {},
   "source": [
    "## Q2. 석유 시추\n",
    "##### PCCP 기출 문제"
   ]
  },
  {
   "cell_type": "markdown",
   "id": "0a887322-f91d-44cb-be33-7ba2a495f037",
   "metadata": {},
   "source": [
    "https://school.programmers.co.kr/learn/courses/30/lessons/250136"
   ]
  },
  {
   "cell_type": "markdown",
   "id": "c4c64544-9e56-45c5-b847-d43f154507d4",
   "metadata": {},
   "source": [
    "### A2. 석유 시추"
   ]
  },
  {
   "cell_type": "code",
   "execution_count": null,
   "id": "e9e53418-e10f-4f0f-ac07-1d9521415218",
   "metadata": {},
   "outputs": [],
   "source": []
  },
  {
   "cell_type": "code",
   "execution_count": null,
   "id": "289bdcc5-d219-4e81-ba08-54ad0498aca4",
   "metadata": {},
   "outputs": [],
   "source": []
  },
  {
   "cell_type": "markdown",
   "id": "fc29ef02-14b4-4a65-b7ab-06199315f09a",
   "metadata": {},
   "source": [
    "## Q3. 아날로그 시계\n",
    "##### PCCP 기출 문제"
   ]
  },
  {
   "cell_type": "markdown",
   "id": "f9a17431-4710-4d1f-85ca-32dd103a7474",
   "metadata": {},
   "source": [
    "https://school.programmers.co.kr/learn/courses/30/lessons/250135"
   ]
  },
  {
   "cell_type": "markdown",
   "id": "aa3aed47-3e3c-4967-a49c-0c87a05364f4",
   "metadata": {},
   "source": [
    "### A3. 아날로그 시계"
   ]
  },
  {
   "cell_type": "code",
   "execution_count": null,
   "id": "120ed5c2-6ba7-4cda-be92-19732e2a0bfc",
   "metadata": {},
   "outputs": [],
   "source": []
  },
  {
   "cell_type": "code",
   "execution_count": null,
   "id": "b2937b51-bf06-4da2-ab58-fa7630241a43",
   "metadata": {},
   "outputs": [],
   "source": []
  },
  {
   "cell_type": "markdown",
   "id": "6e01befb-de52-43a0-9919-97d7462d8517",
   "metadata": {},
   "source": [
    "## Q4. 빛의 경로 사이클"
   ]
  },
  {
   "cell_type": "markdown",
   "id": "da0f4640-86b0-4fa0-acb0-cadf3bf16309",
   "metadata": {},
   "source": [
    "https://school.programmers.co.kr/learn/courses/30/lessons/86052"
   ]
  },
  {
   "cell_type": "markdown",
   "id": "ad09ec82-1464-4f36-bd1d-4ff582b28cb0",
   "metadata": {},
   "source": [
    "### A4. 빛의 경로 사이클"
   ]
  },
  {
   "cell_type": "code",
   "execution_count": null,
   "id": "82bf72b1-efff-49ca-9734-4adf4e05a803",
   "metadata": {},
   "outputs": [],
   "source": []
  },
  {
   "cell_type": "code",
   "execution_count": null,
   "id": "0590fafc-f7a1-4eb9-b56c-f6c625885310",
   "metadata": {},
   "outputs": [],
   "source": []
  },
  {
   "cell_type": "markdown",
   "id": "e856c782-58b6-4471-b7f3-d904091b9922",
   "metadata": {},
   "source": [
    "## Q5. 당구 연습"
   ]
  },
  {
   "cell_type": "markdown",
   "id": "168c91f4-3e2f-4a05-ab97-ab2666280f56",
   "metadata": {},
   "source": [
    "https://school.programmers.co.kr/learn/courses/30/lessons/169198"
   ]
  },
  {
   "cell_type": "markdown",
   "id": "20e49c70-5f6c-47a8-8ed8-c3587d561952",
   "metadata": {},
   "source": [
    "### A5. 당구 연습"
   ]
  },
  {
   "cell_type": "code",
   "execution_count": null,
   "id": "3d173c53-360a-4e82-b38b-eb091b63c03c",
   "metadata": {},
   "outputs": [],
   "source": []
  },
  {
   "cell_type": "code",
   "execution_count": null,
   "id": "92bb7c5e-b292-4889-9cbf-7f24c0d76709",
   "metadata": {},
   "outputs": [],
   "source": []
  }
 ],
 "metadata": {
  "kernelspec": {
   "display_name": "Python 3 (ipykernel)",
   "language": "python",
   "name": "python3"
  },
  "language_info": {
   "codemirror_mode": {
    "name": "ipython",
    "version": 3
   },
   "file_extension": ".py",
   "mimetype": "text/x-python",
   "name": "python",
   "nbconvert_exporter": "python",
   "pygments_lexer": "ipython3",
   "version": "3.11.8"
  }
 },
 "nbformat": 4,
 "nbformat_minor": 5
}
